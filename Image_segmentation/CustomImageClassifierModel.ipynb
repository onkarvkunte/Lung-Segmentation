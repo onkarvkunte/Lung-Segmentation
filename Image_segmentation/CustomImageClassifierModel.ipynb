{
 "cells": [
  {
   "cell_type": "markdown",
   "id": "3edf8fbc",
   "metadata": {},
   "source": [
    "## Custom Neural Network Model for Image Classification\n",
    "This notebook contains a custom neural network model designed for image classification tasks, such as the GTSRB dataset."
   ]
  },
  {
   "cell_type": "code",
   "execution_count": null,
   "id": "b023d878",
   "metadata": {},
   "outputs": [],
   "source": [
    "import torch\n",
    "import torch.nn as nn\n",
    "import torch.nn.functional as F"
   ]
  },
  {
   "cell_type": "code",
   "execution_count": null,
   "id": "a9bec6a4",
   "metadata": {},
   "outputs": [],
   "source": [
    "\n",
    "class CustomImageClassifier(nn.Module):\n",
    "    def __init__(self, num_classes=43): # Default num_classes for GTSRB\n",
    "        super(CustomImageClassifier, self).__init__()\n",
    "        self.conv1 = nn.Conv2d(3, 16, 3, padding=1)\n",
    "        self.conv2 = nn.Conv2d(16, 32, 3, padding=1)\n",
    "        self.conv3 = nn.Conv2d(32, 64, 3, padding=1)\n",
    "        self.pool = nn.MaxPool2d(2, 2)\n",
    "        self.fc1 = nn.Linear(64 * 8 * 8, 512) # Adjust the dimensions according to your input size\n",
    "        self.fc2 = nn.Linear(512, 128)\n",
    "        self.fc3 = nn.Linear(128, num_classes)\n",
    "        self.dropout = nn.Dropout(0.25)\n",
    "\n",
    "    def forward(self, x):\n",
    "        x = self.pool(F.relu(self.conv1(x)))\n",
    "        x = self.pool(F.relu(self.conv2(x)))\n",
    "        x = self.pool(F.relu(self.conv3(x)))\n",
    "        x = x.view(-1, 64 * 8 * 8) # Flatten the layer\n",
    "        x = F.relu(self.fc1(x))\n",
    "        x = self.dropout(x)\n",
    "        x = F.relu(self.fc2(x))\n",
    "        x = self.fc3(x)\n",
    "        return x\n"
   ]
  }
 ],
 "metadata": {},
 "nbformat": 4,
 "nbformat_minor": 5
}
